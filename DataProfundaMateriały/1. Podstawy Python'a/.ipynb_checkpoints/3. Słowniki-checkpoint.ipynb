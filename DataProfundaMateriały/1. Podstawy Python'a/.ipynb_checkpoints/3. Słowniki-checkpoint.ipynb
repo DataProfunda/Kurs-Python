{
 "cells": [
  {
   "cell_type": "code",
   "execution_count": 1,
   "metadata": {},
   "outputs": [],
   "source": [
    "#Słownik (and. dictionary) jest strukturą danych podobną do listy. \n",
    "#W przeciwieństwie do listy, w słowniku używamy kluczy zamiast indeksów.\n",
    "#W słowniku klucze są unikalne."
   ]
  },
  {
   "cell_type": "code",
   "execution_count": 2,
   "metadata": {},
   "outputs": [],
   "source": [
    "#Stwórzmy słownik o nazwie pracownik.\n",
    "pracownik = { \"imie\":\"Jan\", \"nazwisko\":\"Kowalski\", \"wiek\":\"34\" }"
   ]
  },
  {
   "cell_type": "code",
   "execution_count": 3,
   "metadata": {},
   "outputs": [
    {
     "data": {
      "text/plain": [
       "'Jan'"
      ]
     },
     "execution_count": 3,
     "metadata": {},
     "output_type": "execute_result"
    }
   ],
   "source": [
    "#Kluczem w tym wypadku jest 'imie'. Słownik zwraca nam napis 'Jan'.\n",
    "pracownik['imie']"
   ]
  },
  {
   "cell_type": "code",
   "execution_count": 4,
   "metadata": {},
   "outputs": [
    {
     "data": {
      "text/plain": [
       "'Kowalski'"
      ]
     },
     "execution_count": 4,
     "metadata": {},
     "output_type": "execute_result"
    }
   ],
   "source": [
    "pracownik['nazwisko']"
   ]
  },
  {
   "cell_type": "code",
   "execution_count": 5,
   "metadata": {},
   "outputs": [
    {
     "data": {
      "text/plain": [
       "'34'"
      ]
     },
     "execution_count": 5,
     "metadata": {},
     "output_type": "execute_result"
    }
   ],
   "source": [
    "pracownik['wiek']"
   ]
  },
  {
   "cell_type": "code",
   "execution_count": 6,
   "metadata": {},
   "outputs": [],
   "source": [
    "#Żeby dodać wartość, w kwadratowe nawiasy wpisujemy nowy klucz i przypisujemy mu wartość.\n",
    "pracownik['stanowisko'] = \"grafik\""
   ]
  },
  {
   "cell_type": "code",
   "execution_count": 7,
   "metadata": {},
   "outputs": [
    {
     "data": {
      "text/plain": [
       "'grafik'"
      ]
     },
     "execution_count": 7,
     "metadata": {},
     "output_type": "execute_result"
    }
   ],
   "source": [
    "pracownik['stanowisko']"
   ]
  },
  {
   "cell_type": "code",
   "execution_count": 8,
   "metadata": {},
   "outputs": [
    {
     "data": {
      "text/plain": [
       "38"
      ]
     },
     "execution_count": 8,
     "metadata": {},
     "output_type": "execute_result"
    }
   ],
   "source": [
    "#Możemy zmieniać wartości, tak jak w liście.\n",
    "pracownik['wiek'] = 38\n",
    "pracownik['wiek'] "
   ]
  },
  {
   "cell_type": "code",
   "execution_count": null,
   "metadata": {},
   "outputs": [],
   "source": [
    "#Zad 1\n",
    "#Stwórz słownik o nazwie samochód. Niech posiada 3 klucze ('Nazwa', 'Marka', 'Kolor')\n",
    "#Wypełnij ten słownik wartościami.\n",
    "\n"
   ]
  }
 ],
 "metadata": {
  "kernelspec": {
   "display_name": "Python 3",
   "language": "python",
   "name": "python3"
  },
  "language_info": {
   "codemirror_mode": {
    "name": "ipython",
    "version": 3
   },
   "file_extension": ".py",
   "mimetype": "text/x-python",
   "name": "python",
   "nbconvert_exporter": "python",
   "pygments_lexer": "ipython3",
   "version": "3.7.7"
  }
 },
 "nbformat": 4,
 "nbformat_minor": 2
}
