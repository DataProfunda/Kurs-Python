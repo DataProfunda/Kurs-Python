{
 "cells": [
  {
   "cell_type": "markdown",
   "metadata": {},
   "source": [
    "# Pętle słóżą do wykonywania jakieś czynności wiele razy "
   ]
  },
  {
   "cell_type": "markdown",
   "metadata": {},
   "source": [
    "Stwórzmy pętlę wykobywującą się 5 razy\n",
    "Pętla wykonuje się raz dla każdego elementu w liście\n",
    "Przy każdej iteracji x przyjmuje wartość z listy."
   ]
  },
  {
   "cell_type": "code",
   "execution_count": 1,
   "metadata": {},
   "outputs": [
    {
     "name": "stdout",
     "output_type": "stream",
     "text": [
      "0\n",
      "1\n",
      "2\n",
      "3\n",
      "4\n",
      "5\n"
     ]
    }
   ],
   "source": [
    "#Stwórzmy pętlę wykobywującą się 5 razy\n",
    "#Pętla wykonuje się raz dla każdego elementu w liście\n",
    "#Przy każdej iteracji x przyjmuje wartość z listy.\n",
    "\n",
    "lista = [0,1,2,3,4,5]\n",
    "for x in lista:\n",
    "    print(x)"
   ]
  },
  {
   "cell_type": "code",
   "execution_count": 14,
   "metadata": {},
   "outputs": [
    {
     "data": {
      "text/plain": [
       "[0, 1, 2, 3, 4, 5]"
      ]
     },
     "execution_count": 14,
     "metadata": {},
     "output_type": "execute_result"
    }
   ],
   "source": [
    "#Funkcja range(n_elementów) służy do stworzenia listy od 0 do (n_elementów - 1)\n",
    "range(6)"
   ]
  },
  {
   "cell_type": "code",
   "execution_count": 3,
   "metadata": {},
   "outputs": [
    {
     "name": "stdout",
     "output_type": "stream",
     "text": [
      "0\n",
      "1\n",
      "2\n",
      "3\n",
      "4\n",
      "5\n",
      "6\n",
      "7\n"
     ]
    }
   ],
   "source": [
    "#Zamiast tworzyć tablice, możemy użyć odrazu funkcji range(n_elementów)\n",
    "for x in range(8):\n",
    "    print(x)"
   ]
  },
  {
   "cell_type": "code",
   "execution_count": 6,
   "metadata": {},
   "outputs": [
    {
     "name": "stdout",
     "output_type": "stream",
     "text": [
      "zero rowna sie 0\n",
      "jeden rowna sie 1\n",
      "dwa rowna sie 2\n",
      "trzy rowna sie 3\n",
      "cztery rowna sie 4\n",
      "piec rowna sie 5\n"
     ]
    }
   ],
   "source": [
    "#W pętli for enumerate, 'i' przyjmuje numer iteracjii a 'x' przyjmuje wartość z tablicy\n",
    "\n",
    "lista_druga = ['zero','jeden','dwa','trzy','cztery','piec']\n",
    "\n",
    "for i,x in enumerate(lista_druga):\n",
    "    print('{one} rowna sie {two}'.format(one=x,two=i))"
   ]
  },
  {
   "cell_type": "code",
   "execution_count": 8,
   "metadata": {},
   "outputs": [
    {
     "name": "stdout",
     "output_type": "stream",
     "text": [
      "0\n",
      "1\n",
      "2\n",
      "3\n",
      "4\n",
      "5\n"
     ]
    }
   ],
   "source": [
    "#Pętla while(warunek), wykonuje się do momentu, kiedy warunek równa się False.\n",
    "#Jak widzimy za pomocą pętli for i while, możemy tworzyć takie same pętle.\n",
    "#Czasem po prostu jest łatwiej zastosować pętle for zamiast while i na odwrót.\n",
    "i = 0\n",
    "while(i < 6):\n",
    "    print(i)\n",
    "    i = i + 1"
   ]
  }
 ],
 "metadata": {
  "kernelspec": {
   "display_name": "Python 3",
   "language": "python",
   "name": "python3"
  },
  "language_info": {
   "codemirror_mode": {
    "name": "ipython",
    "version": 3
   },
   "file_extension": ".py",
   "mimetype": "text/x-python",
   "name": "python",
   "nbconvert_exporter": "python",
   "pygments_lexer": "ipython3",
   "version": "3.6.13"
  }
 },
 "nbformat": 4,
 "nbformat_minor": 2
}
