{
 "cells": [
  {
   "cell_type": "code",
   "execution_count": 1,
   "metadata": {},
   "outputs": [],
   "source": [
    "#Klasa to pusty kontener na informacje i funkcje."
   ]
  },
  {
   "cell_type": "code",
   "execution_count": 1,
   "metadata": {},
   "outputs": [],
   "source": [
    "class Auto:\n",
    "    def __init__(self, marka, ilosc_drzwi, moc_silnika):\n",
    "        self.marka = marka\n",
    "        self.ilosc_drzwi = ilosc_drzwi\n",
    "        self.moc_silnika = moc_silnika\n",
    "        \n",
    "    def odpal(self):\n",
    "        print('{one} robi {two} ... {two}'.format(one = self.marka ,two = 'Brrrr!'))\n",
    "    \n",
    "    def info(self):\n",
    "        print('Samochod marki {}, ma moc {} i drzwi: {}'.format( self.marka, self.moc_silnika ,self.ilosc_drzwi))"
   ]
  },
  {
   "cell_type": "code",
   "execution_count": 2,
   "metadata": {},
   "outputs": [],
   "source": [
    "#Obiekt to instacja klasy.\n",
    "#Wypełniamy obiekt informacjami o samochodzi.\n",
    "samochod = Auto('Marcedes',4,'200 koni')"
   ]
  },
  {
   "cell_type": "code",
   "execution_count": 3,
   "metadata": {},
   "outputs": [
    {
     "name": "stdout",
     "output_type": "stream",
     "text": [
      "Marcedes robi Brrrr! ... Brrrr!\n"
     ]
    }
   ],
   "source": [
    "#Jak widzimy na obiekcie możemy wywołać funkcje.\n",
    "samochod.odpal()"
   ]
  },
  {
   "cell_type": "code",
   "execution_count": 4,
   "metadata": {},
   "outputs": [
    {
     "name": "stdout",
     "output_type": "stream",
     "text": [
      "Samochod marki Marcedes, ma moc 200 koni i drzwi: 4\n"
     ]
    }
   ],
   "source": [
    "samochod.info()"
   ]
  },
  {
   "cell_type": "code",
   "execution_count": 5,
   "metadata": {},
   "outputs": [
    {
     "data": {
      "text/plain": [
       "'Marcedes'"
      ]
     },
     "execution_count": 5,
     "metadata": {},
     "output_type": "execute_result"
    }
   ],
   "source": [
    "samochod.marka"
   ]
  },
  {
   "cell_type": "code",
   "execution_count": null,
   "metadata": {},
   "outputs": [],
   "source": []
  }
 ],
 "metadata": {
  "kernelspec": {
   "display_name": "Python 3",
   "language": "python",
   "name": "python3"
  },
  "language_info": {
   "codemirror_mode": {
    "name": "ipython",
    "version": 3
   },
   "file_extension": ".py",
   "mimetype": "text/x-python",
   "name": "python",
   "nbconvert_exporter": "python",
   "pygments_lexer": "ipython3",
   "version": "3.8.3"
  }
 },
 "nbformat": 4,
 "nbformat_minor": 2
}
