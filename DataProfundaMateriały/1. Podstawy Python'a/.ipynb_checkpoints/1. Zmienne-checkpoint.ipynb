{
 "cells": [
  {
   "cell_type": "code",
   "execution_count": 22,
   "metadata": {},
   "outputs": [],
   "source": [
    "#Zmienna (ang. variable) - to pojemnik na dane. \n",
    "#Każda zmienna musi mieć inną nazwę.\n",
    "#Żeby zapełnić te pojemniki informacjami używamy ' = '"
   ]
  },
  {
   "cell_type": "code",
   "execution_count": 23,
   "metadata": {},
   "outputs": [],
   "source": [
    "#Mamy różne typy danych.\n",
    "#Int (ang. Integer) - liczby całkowite (np: 5)\n",
    "#Float - liczba zmiennoprzecinkowa np (2.79)\n",
    "#String - łańcuch znaków, czyli po prostu napis (np: \"Hello World\")\n",
    "#Boolean - typ przyjmujący tylko wartości True( Prawda ) lub False( Fałsz )"
   ]
  },
  {
   "cell_type": "code",
   "execution_count": 24,
   "metadata": {},
   "outputs": [],
   "source": [
    "zmienna_int = 6\n",
    "zmienna_float = 3.14\n",
    "zmienna_string = \"Jestem napisem\""
   ]
  },
  {
   "cell_type": "code",
   "execution_count": 25,
   "metadata": {},
   "outputs": [],
   "source": [
    "#Żeby wyświetlić wartość zmiennej piszemy jej nazwę."
   ]
  },
  {
   "cell_type": "code",
   "execution_count": 26,
   "metadata": {},
   "outputs": [
    {
     "data": {
      "text/plain": [
       "6"
      ]
     },
     "execution_count": 26,
     "metadata": {},
     "output_type": "execute_result"
    }
   ],
   "source": [
    "zmienna_int"
   ]
  },
  {
   "cell_type": "code",
   "execution_count": 27,
   "metadata": {},
   "outputs": [
    {
     "data": {
      "text/plain": [
       "3.14"
      ]
     },
     "execution_count": 27,
     "metadata": {},
     "output_type": "execute_result"
    }
   ],
   "source": [
    "zmienna_float"
   ]
  },
  {
   "cell_type": "code",
   "execution_count": 28,
   "metadata": {},
   "outputs": [
    {
     "data": {
      "text/plain": [
       "'Jestem napisem'"
      ]
     },
     "execution_count": 28,
     "metadata": {},
     "output_type": "execute_result"
    }
   ],
   "source": [
    "zmienna_string"
   ]
  },
  {
   "cell_type": "code",
   "execution_count": 29,
   "metadata": {},
   "outputs": [],
   "source": [
    "zmienna_int1 = 3\n",
    "zmienna_float2 = 2.39\n",
    "zmienna_string3 = \" i jestem typem String\""
   ]
  },
  {
   "cell_type": "code",
   "execution_count": 30,
   "metadata": {},
   "outputs": [],
   "source": [
    "#Typ Int i Float możemy dodawać, odejmować, dzielić i mnożyć. "
   ]
  },
  {
   "cell_type": "code",
   "execution_count": 31,
   "metadata": {},
   "outputs": [
    {
     "data": {
      "text/plain": [
       "9"
      ]
     },
     "execution_count": 31,
     "metadata": {},
     "output_type": "execute_result"
    }
   ],
   "source": [
    "zmienna_int + zmienna_int1"
   ]
  },
  {
   "cell_type": "code",
   "execution_count": 32,
   "metadata": {},
   "outputs": [
    {
     "data": {
      "text/plain": [
       "3"
      ]
     },
     "execution_count": 32,
     "metadata": {},
     "output_type": "execute_result"
    }
   ],
   "source": [
    "zmienna_int - zmienna_int1"
   ]
  },
  {
   "cell_type": "code",
   "execution_count": 33,
   "metadata": {},
   "outputs": [
    {
     "data": {
      "text/plain": [
       "18"
      ]
     },
     "execution_count": 33,
     "metadata": {},
     "output_type": "execute_result"
    }
   ],
   "source": [
    "zmienna_int * zmienna_int1"
   ]
  },
  {
   "cell_type": "code",
   "execution_count": 34,
   "metadata": {},
   "outputs": [
    {
     "data": {
      "text/plain": [
       "2"
      ]
     },
     "execution_count": 34,
     "metadata": {},
     "output_type": "execute_result"
    }
   ],
   "source": [
    "#Przy dzieleniu zmiennych typu Int liczba jest zaokrąglona.\n",
    "zmienna_int / zmienna_int1"
   ]
  },
  {
   "cell_type": "code",
   "execution_count": 35,
   "metadata": {},
   "outputs": [
    {
     "data": {
      "text/plain": [
       "5.53"
      ]
     },
     "execution_count": 35,
     "metadata": {},
     "output_type": "execute_result"
    }
   ],
   "source": [
    "zmienna_float + zmienna_float2"
   ]
  },
  {
   "cell_type": "code",
   "execution_count": 36,
   "metadata": {},
   "outputs": [
    {
     "data": {
      "text/plain": [
       "0.75"
      ]
     },
     "execution_count": 36,
     "metadata": {},
     "output_type": "execute_result"
    }
   ],
   "source": [
    "zmienna_float - zmienna_float2"
   ]
  },
  {
   "cell_type": "code",
   "execution_count": 37,
   "metadata": {},
   "outputs": [
    {
     "data": {
      "text/plain": [
       "7.504600000000001"
      ]
     },
     "execution_count": 37,
     "metadata": {},
     "output_type": "execute_result"
    }
   ],
   "source": [
    "zmienna_float * zmienna_float2"
   ]
  },
  {
   "cell_type": "code",
   "execution_count": 38,
   "metadata": {},
   "outputs": [
    {
     "data": {
      "text/plain": [
       "1.3138075313807531"
      ]
     },
     "execution_count": 38,
     "metadata": {},
     "output_type": "execute_result"
    }
   ],
   "source": [
    "zmienna_float / zmienna_float2"
   ]
  },
  {
   "cell_type": "code",
   "execution_count": 39,
   "metadata": {},
   "outputs": [
    {
     "data": {
      "text/plain": [
       "9.14"
      ]
     },
     "execution_count": 39,
     "metadata": {},
     "output_type": "execute_result"
    }
   ],
   "source": [
    "#Możemy operować wspólnie na zmiennych typu Int i Float\n",
    "zmienna_int + zmienna_float"
   ]
  },
  {
   "cell_type": "code",
   "execution_count": 40,
   "metadata": {},
   "outputs": [
    {
     "ename": "TypeError",
     "evalue": "unsupported operand type(s) for +: 'int' and 'str'",
     "output_type": "error",
     "traceback": [
      "\u001b[1;31m\u001b[0m",
      "\u001b[1;31mTypeError\u001b[0mTraceback (most recent call last)",
      "\u001b[1;32m<ipython-input-40-47bf7d6b5a58>\u001b[0m in \u001b[0;36m<module>\u001b[1;34m()\u001b[0m\n\u001b[0;32m      1\u001b[0m \u001b[1;31m#Jeżeli spróbujemy dodać zmienną liczbową do napisu wyskoczy nam błąd.\u001b[0m\u001b[1;33m\u001b[0m\u001b[1;33m\u001b[0m\u001b[0m\n\u001b[1;32m----> 2\u001b[1;33m \u001b[0mzmienna_int\u001b[0m \u001b[1;33m+\u001b[0m \u001b[0mzmienna_string\u001b[0m\u001b[1;33m\u001b[0m\u001b[0m\n\u001b[0m",
      "\u001b[1;31mTypeError\u001b[0m: unsupported operand type(s) for +: 'int' and 'str'"
     ]
    }
   ],
   "source": [
    "#Jeżeli spróbujemy dodać zmienną liczbową do napisu wyskoczy nam błąd.\n",
    "zmienna_int + zmienna_string"
   ]
  },
  {
   "cell_type": "code",
   "execution_count": 41,
   "metadata": {},
   "outputs": [
    {
     "data": {
      "text/plain": [
       "'6Jestem napisem'"
      ]
     },
     "execution_count": 41,
     "metadata": {},
     "output_type": "execute_result"
    }
   ],
   "source": [
    "#Żeby to zrobić musimy zamienić liczbę na napis.\n",
    "#Robimy to za pomocą funkcji str( liczba ).\n",
    "#Omówimy czym są funkcje w dalszej części.\n",
    "str(zmienna_int) + zmienna_string"
   ]
  },
  {
   "cell_type": "code",
   "execution_count": 42,
   "metadata": {},
   "outputs": [
    {
     "name": "stdout",
     "output_type": "stream",
     "text": [
      "To jest pierwsza linijka\n",
      "To jest druga linijka\n"
     ]
    }
   ],
   "source": [
    "#Jeżeli chcemy w Jupyterze wyświetlić więcej niż jedną linikę tekstu, używamy funkcji print()\n",
    "print('To jest pierwsza linijka')\n",
    "print('To jest druga linijka')"
   ]
  },
  {
   "cell_type": "code",
   "execution_count": 43,
   "metadata": {},
   "outputs": [],
   "source": [
    "#Mamy kilka sposobów na wyświetlenie zmiennych za pomocą funkcji print()"
   ]
  },
  {
   "cell_type": "code",
   "execution_count": 45,
   "metadata": {},
   "outputs": [
    {
     "name": "stdout",
     "output_type": "stream",
     "text": [
      "('Zmienna_int1 wynosi:', 3, ' i jest typu: ', <type 'int'>)\n"
     ]
    }
   ],
   "source": [
    "#Najprostszym jest wypisywanie kolejnych wartości po przecinku\n",
    "#Funkcja type( zmienna ), zwraca typ zmiennej\n",
    "print('Zmienna_int1 wynosi:', zmienna_int1, ' i jest typu: ', type(zmienna_int1) )"
   ]
  },
  {
   "cell_type": "code",
   "execution_count": 46,
   "metadata": {},
   "outputs": [
    {
     "name": "stdout",
     "output_type": "stream",
     "text": [
      "Zmienna_int1 wynosi: 3 i jest typu: <type 'int'>\n"
     ]
    }
   ],
   "source": [
    "#Lepszą praktyką jest użycie funkcji format()\n",
    "print('Zmienna_int1 wynosi: {} i jest typu: {}'.format(zmienna_int1, type(zmienna_int1)))"
   ]
  },
  {
   "cell_type": "code",
   "execution_count": 47,
   "metadata": {},
   "outputs": [
    {
     "name": "stdout",
     "output_type": "stream",
     "text": [
      "Zmienna_int1 wynosi: 3 i jest typu: <type 'int'>\n"
     ]
    }
   ],
   "source": [
    "#W przypadku większej ilości zmiennych, warto dla przejrzystości określić wartości w {}\n",
    "print('Zmienna_int1 wynosi: {first} i jest typu: {second}'.format(first = zmienna_int1, second = type(zmienna_int1)))"
   ]
  },
  {
   "cell_type": "code",
   "execution_count": 48,
   "metadata": {},
   "outputs": [],
   "source": [
    "#Stwórz kolejno 3 zmienne dla boków prostopadłościanu.\n",
    "#Wypisz długości boków, oraz objętość bryły."
   ]
  },
  {
   "cell_type": "code",
   "execution_count": null,
   "metadata": {},
   "outputs": [],
   "source": []
  }
 ],
 "metadata": {
  "kernelspec": {
   "display_name": "Python 3",
   "language": "python",
   "name": "python3"
  },
  "language_info": {
   "codemirror_mode": {
    "name": "ipython",
    "version": 3
   },
   "file_extension": ".py",
   "mimetype": "text/x-python",
   "name": "python",
   "nbconvert_exporter": "python",
   "pygments_lexer": "ipython3",
   "version": "3.7.7"
  }
 },
 "nbformat": 4,
 "nbformat_minor": 2
}
