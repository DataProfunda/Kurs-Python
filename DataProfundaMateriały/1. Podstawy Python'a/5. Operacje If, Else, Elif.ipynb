{
 "cells": [
  {
   "cell_type": "code",
   "execution_count": 1,
   "metadata": {},
   "outputs": [],
   "source": [
    "#Operacje If, Else i Elif"
   ]
  },
  {
   "cell_type": "code",
   "execution_count": 2,
   "metadata": {},
   "outputs": [],
   "source": [
    "liczba_pierwsza = 11\n",
    "liczba_druga = 15"
   ]
  },
  {
   "cell_type": "code",
   "execution_count": 5,
   "metadata": {},
   "outputs": [
    {
     "name": "stdout",
     "output_type": "stream",
     "text": [
      "Liczba pierwsza jest mniejsza od drugiej\n"
     ]
    }
   ],
   "source": [
    "#Jeżeli chcemy, żeby jakaś operacja została wykonanam dopiero, \n",
    "#kiedy jakiś warunek zostanie spełniony używamy słowa If\n",
    "if(liczba_pierwsza < liczba_druga):\n",
    "    print('Liczba pierwsza jest mniejsza od drugiej')"
   ]
  },
  {
   "cell_type": "code",
   "execution_count": 6,
   "metadata": {},
   "outputs": [
    {
     "name": "stdout",
     "output_type": "stream",
     "text": [
      "Liczba pierwsza jest mniejsza od drugiej\n"
     ]
    }
   ],
   "source": [
    "#Jeżeli warunek w elif(liczba_pierwsza < liczba_druga) jest True\n",
    "# a poprzedni warunek if jest False,\n",
    "# wyświeti się napis 'Liczba pierwsza jest mniejsza od drugiej'.\n",
    "if(liczba_pierwsza > liczba_druga):\n",
    "    print('Liczba pierwsza jest większa od drugiej')\n",
    "elif(liczba_pierwsza < liczba_druga):\n",
    "    print('Liczba pierwsza jest mniejsza od drugiej')"
   ]
  },
  {
   "cell_type": "code",
   "execution_count": 6,
   "metadata": {},
   "outputs": [
    {
     "name": "stdout",
     "output_type": "stream",
     "text": [
      "Liczba pierwsza jest mniejsza od drugiej.\n"
     ]
    }
   ],
   "source": [
    "#Jeżeli warunek w If i w Elif jest False, możemy użyć operacji Else\n",
    "#Operacja w Else wykona się tylko wtedy, jeżeli poprzednie warunki są False\n",
    "if(liczba_pierwsza > liczba_druga):\n",
    "    print('Liczba pierwsza jest większa od drugiej')\n",
    "elif(liczba_pierwsza == liczba_druga):\n",
    "    print('Liczba pierwsza jest równa drugiej')\n",
    "else:\n",
    "    print('Liczba pierwsza jest mniejsza od drugiej.')"
   ]
  },
  {
   "cell_type": "code",
   "execution_count": null,
   "metadata": {},
   "outputs": [],
   "source": []
  }
 ],
 "metadata": {
  "kernelspec": {
   "display_name": "Python 3",
   "language": "python",
   "name": "python3"
  },
  "language_info": {
   "codemirror_mode": {
    "name": "ipython",
    "version": 3
   },
   "file_extension": ".py",
   "mimetype": "text/x-python",
   "name": "python",
   "nbconvert_exporter": "python",
   "pygments_lexer": "ipython3",
   "version": "3.7.9"
  }
 },
 "nbformat": 4,
 "nbformat_minor": 2
}
