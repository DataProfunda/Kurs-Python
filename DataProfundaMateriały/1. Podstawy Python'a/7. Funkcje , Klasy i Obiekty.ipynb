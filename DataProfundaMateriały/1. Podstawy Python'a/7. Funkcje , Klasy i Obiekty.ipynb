{
 "cells": [
  {
   "cell_type": "code",
   "execution_count": null,
   "metadata": {},
   "outputs": [],
   "source": [
    "#Funkcja to blok kodu, który się wykona tylko wtedy jak zostanie wywołana.\n",
    "#Pomagają nam ograniczyć ilość kodu, oraz zwiększyć przejrzystość."
   ]
  },
  {
   "cell_type": "code",
   "execution_count": 6,
   "metadata": {},
   "outputs": [],
   "source": [
    "def dodaj(a,b):\n",
    "    print(a + b)"
   ]
  },
  {
   "cell_type": "code",
   "execution_count": 9,
   "metadata": {},
   "outputs": [
    {
     "name": "stdout",
     "output_type": "stream",
     "text": [
      "5\n"
     ]
    }
   ],
   "source": [
    "dodaj(2,3)"
   ]
  },
  {
   "cell_type": "code",
   "execution_count": 1,
   "metadata": {},
   "outputs": [],
   "source": [
    "def kwadrat(a):\n",
    "    return(a * a)"
   ]
  },
  {
   "cell_type": "code",
   "execution_count": 10,
   "metadata": {},
   "outputs": [
    {
     "data": {
      "text/plain": [
       "4"
      ]
     },
     "execution_count": 10,
     "metadata": {},
     "output_type": "execute_result"
    }
   ],
   "source": [
    "kwadrat(2)"
   ]
  },
  {
   "cell_type": "code",
   "execution_count": 14,
   "metadata": {},
   "outputs": [
    {
     "data": {
      "text/plain": [
       "9"
      ]
     },
     "execution_count": 14,
     "metadata": {},
     "output_type": "execute_result"
    }
   ],
   "source": [
    "kwadrat_liczby = kwadrat(3)\n",
    "kwadrat_liczby"
   ]
  },
  {
   "cell_type": "code",
   "execution_count": 1,
   "metadata": {},
   "outputs": [],
   "source": [
    "#Klasa to pusty kontener na informacje i funkcje."
   ]
  },
  {
   "cell_type": "code",
   "execution_count": 15,
   "metadata": {},
   "outputs": [],
   "source": [
    "class Auto:\n",
    "    def __init__(self, marka, ilosc_drzwi, moc_silnika):\n",
    "        self.marka = marka\n",
    "        self.ilosc_drzwi = ilosc_drzwi\n",
    "        self.moc_silnika = moc_silnika\n",
    "        \n",
    "    def odpal(self):\n",
    "        print('{one} robi {two} ... {two}'.format(one = self.marka ,two = 'Brrrr!'))\n",
    "    \n",
    "    def info(self):\n",
    "        print('Samochod marki {}, ma moc {} i drzwi: {}'.format( self.marka, self.moc_silnika ,self.ilosc_drzwi))"
   ]
  },
  {
   "cell_type": "code",
   "execution_count": 16,
   "metadata": {},
   "outputs": [],
   "source": [
    "#Obiekt to instacja klasy.\n",
    "#Wypełniamy obiekt informacjami o samochodzi.\n",
    "samochod = Auto('Mercedes',4,'200 koni')"
   ]
  },
  {
   "cell_type": "code",
   "execution_count": 17,
   "metadata": {},
   "outputs": [
    {
     "name": "stdout",
     "output_type": "stream",
     "text": [
      "Mercedes robi Brrrr! ... Brrrr!\n"
     ]
    }
   ],
   "source": [
    "#Jak widzimy na obiekcie możemy wywołać funkcje.\n",
    "samochod.odpal()"
   ]
  },
  {
   "cell_type": "code",
   "execution_count": 4,
   "metadata": {},
   "outputs": [
    {
     "name": "stdout",
     "output_type": "stream",
     "text": [
      "Samochod marki Marcedes, ma moc 200 koni i drzwi: 4\n"
     ]
    }
   ],
   "source": [
    "samochod.info()"
   ]
  },
  {
   "cell_type": "code",
   "execution_count": 5,
   "metadata": {},
   "outputs": [
    {
     "data": {
      "text/plain": [
       "'Marcedes'"
      ]
     },
     "execution_count": 5,
     "metadata": {},
     "output_type": "execute_result"
    }
   ],
   "source": [
    "samochod.marka"
   ]
  }
 ],
 "metadata": {
  "kernelspec": {
   "display_name": "Python 3",
   "language": "python",
   "name": "python3"
  },
  "language_info": {
   "codemirror_mode": {
    "name": "ipython",
    "version": 3
   },
   "file_extension": ".py",
   "mimetype": "text/x-python",
   "name": "python",
   "nbconvert_exporter": "python",
   "pygments_lexer": "ipython3",
   "version": "3.7.9"
  }
 },
 "nbformat": 4,
 "nbformat_minor": 2
}
